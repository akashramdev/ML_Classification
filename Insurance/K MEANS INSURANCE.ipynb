{
 "cells": [
  {
   "cell_type": "code",
   "execution_count": 65,
   "id": "2a6beee2",
   "metadata": {},
   "outputs": [],
   "source": [
    "import numpy as np\n",
    "import pandas as pd\n",
    "import matplotlib.pyplot as plt\n",
    "from sklearn.model_selection import train_test_split \n",
    "from sklearn.neighbors import KNeighborsClassifier as KNN"
   ]
  },
  {
   "cell_type": "code",
   "execution_count": 66,
   "id": "ba97d8bd",
   "metadata": {},
   "outputs": [],
   "source": [
    "ins=pd.read_csv(\"insurance.csv\")"
   ]
  },
  {
   "cell_type": "code",
   "execution_count": 67,
   "id": "b886ca43",
   "metadata": {},
   "outputs": [
    {
     "data": {
      "text/html": [
       "<div>\n",
       "<style scoped>\n",
       "    .dataframe tbody tr th:only-of-type {\n",
       "        vertical-align: middle;\n",
       "    }\n",
       "\n",
       "    .dataframe tbody tr th {\n",
       "        vertical-align: top;\n",
       "    }\n",
       "\n",
       "    .dataframe thead th {\n",
       "        text-align: right;\n",
       "    }\n",
       "</style>\n",
       "<table border=\"1\" class=\"dataframe\">\n",
       "  <thead>\n",
       "    <tr style=\"text-align: right;\">\n",
       "      <th></th>\n",
       "      <th>POLICY_NO</th>\n",
       "      <th>PI_NAME</th>\n",
       "      <th>PI_GENDER</th>\n",
       "      <th>SUM_ASSURED</th>\n",
       "      <th>ZONE</th>\n",
       "      <th>PAYMENT_MODE</th>\n",
       "      <th>EARLY_NON</th>\n",
       "      <th>PI_OCCUPATION</th>\n",
       "      <th>MEDICAL_NONMED</th>\n",
       "      <th>PI_STATE</th>\n",
       "      <th>REASON_FOR_CLAIM</th>\n",
       "      <th>PI_AGE</th>\n",
       "      <th>PI_ANNUAL_INCOME</th>\n",
       "      <th>POLICY_STATUS</th>\n",
       "    </tr>\n",
       "  </thead>\n",
       "  <tbody>\n",
       "    <tr>\n",
       "      <th>0</th>\n",
       "      <td>101</td>\n",
       "      <td>A111111</td>\n",
       "      <td>M</td>\n",
       "      <td>60,000</td>\n",
       "      <td>West</td>\n",
       "      <td>Annual</td>\n",
       "      <td>NON EARLY</td>\n",
       "      <td>Proprietor</td>\n",
       "      <td>NON MEDICAL</td>\n",
       "      <td>Gujarat</td>\n",
       "      <td>Cancer</td>\n",
       "      <td>52</td>\n",
       "      <td>96,000</td>\n",
       "      <td>Approved Death Claim</td>\n",
       "    </tr>\n",
       "    <tr>\n",
       "      <th>1</th>\n",
       "      <td>102</td>\n",
       "      <td>A111112</td>\n",
       "      <td>M</td>\n",
       "      <td>500,000</td>\n",
       "      <td>AGENCY</td>\n",
       "      <td>Annual</td>\n",
       "      <td>NON EARLY</td>\n",
       "      <td>Proprietor</td>\n",
       "      <td>NON MEDICAL</td>\n",
       "      <td>Madhya Pradesh</td>\n",
       "      <td>NaN</td>\n",
       "      <td>56</td>\n",
       "      <td>500,000</td>\n",
       "      <td>Repudiate Death</td>\n",
       "    </tr>\n",
       "    <tr>\n",
       "      <th>2</th>\n",
       "      <td>103</td>\n",
       "      <td>A111113</td>\n",
       "      <td>M</td>\n",
       "      <td>300,000</td>\n",
       "      <td>AGENCY</td>\n",
       "      <td>Annual</td>\n",
       "      <td>NON EARLY</td>\n",
       "      <td>Business</td>\n",
       "      <td>NON MEDICAL</td>\n",
       "      <td>Andhra Pradesh</td>\n",
       "      <td>COVID 19</td>\n",
       "      <td>51</td>\n",
       "      <td>0</td>\n",
       "      <td>Approved Death Claim</td>\n",
       "    </tr>\n",
       "    <tr>\n",
       "      <th>3</th>\n",
       "      <td>104</td>\n",
       "      <td>A111114</td>\n",
       "      <td>F</td>\n",
       "      <td>1,000,000</td>\n",
       "      <td>AGENCY</td>\n",
       "      <td>Annual</td>\n",
       "      <td>EARLY</td>\n",
       "      <td>Homemaker</td>\n",
       "      <td>NON MEDICAL</td>\n",
       "      <td>Andhra Pradesh</td>\n",
       "      <td>NaN</td>\n",
       "      <td>52</td>\n",
       "      <td>0</td>\n",
       "      <td>Approved Death Claim</td>\n",
       "    </tr>\n",
       "    <tr>\n",
       "      <th>4</th>\n",
       "      <td>105</td>\n",
       "      <td>A111115</td>\n",
       "      <td>M</td>\n",
       "      <td>10,000,000</td>\n",
       "      <td>RAJASTAN</td>\n",
       "      <td>Annual</td>\n",
       "      <td>EARLY</td>\n",
       "      <td>Banker</td>\n",
       "      <td>NON MEDICAL</td>\n",
       "      <td>Madhya Pradesh</td>\n",
       "      <td>Accidental</td>\n",
       "      <td>26</td>\n",
       "      <td>0</td>\n",
       "      <td>Approved Death Claim</td>\n",
       "    </tr>\n",
       "  </tbody>\n",
       "</table>\n",
       "</div>"
      ],
      "text/plain": [
       "   POLICY_NO  PI_NAME PI_GENDER SUM_ASSURED      ZONE PAYMENT_MODE  EARLY_NON  \\\n",
       "0        101  A111111         M      60,000      West       Annual  NON EARLY   \n",
       "1        102  A111112         M     500,000    AGENCY       Annual  NON EARLY   \n",
       "2        103  A111113         M     300,000    AGENCY       Annual  NON EARLY   \n",
       "3        104  A111114         F   1,000,000    AGENCY       Annual      EARLY   \n",
       "4        105  A111115         M  10,000,000  RAJASTAN       Annual      EARLY   \n",
       "\n",
       "  PI_OCCUPATION MEDICAL_NONMED        PI_STATE REASON_FOR_CLAIM  PI_AGE  \\\n",
       "0    Proprietor    NON MEDICAL         Gujarat           Cancer      52   \n",
       "1    Proprietor    NON MEDICAL  Madhya Pradesh              NaN      56   \n",
       "2      Business    NON MEDICAL  Andhra Pradesh         COVID 19      51   \n",
       "3     Homemaker    NON MEDICAL  Andhra Pradesh              NaN      52   \n",
       "4        Banker    NON MEDICAL  Madhya Pradesh       Accidental      26   \n",
       "\n",
       "  PI_ANNUAL_INCOME         POLICY_STATUS  \n",
       "0           96,000  Approved Death Claim  \n",
       "1          500,000       Repudiate Death  \n",
       "2                0  Approved Death Claim  \n",
       "3                0  Approved Death Claim  \n",
       "4                0  Approved Death Claim  "
      ]
     },
     "execution_count": 67,
     "metadata": {},
     "output_type": "execute_result"
    }
   ],
   "source": [
    "ins.head()"
   ]
  },
  {
   "cell_type": "code",
   "execution_count": 68,
   "id": "326d0f0c",
   "metadata": {},
   "outputs": [
    {
     "data": {
      "text/plain": [
       "(2005, 14)"
      ]
     },
     "execution_count": 68,
     "metadata": {},
     "output_type": "execute_result"
    }
   ],
   "source": [
    "ins.shape"
   ]
  },
  {
   "cell_type": "code",
   "execution_count": 69,
   "id": "17298363",
   "metadata": {},
   "outputs": [
    {
     "name": "stdout",
     "output_type": "stream",
     "text": [
      "<class 'pandas.core.frame.DataFrame'>\n",
      "RangeIndex: 2005 entries, 0 to 2004\n",
      "Data columns (total 14 columns):\n",
      " #   Column            Non-Null Count  Dtype \n",
      "---  ------            --------------  ----- \n",
      " 0   POLICY_NO         2005 non-null   int64 \n",
      " 1   PI_NAME           2005 non-null   object\n",
      " 2   PI_GENDER         2005 non-null   object\n",
      " 3   SUM_ASSURED       2005 non-null   object\n",
      " 4   ZONE              2005 non-null   object\n",
      " 5   PAYMENT_MODE      2005 non-null   object\n",
      " 6   EARLY_NON         2005 non-null   object\n",
      " 7   PI_OCCUPATION     1887 non-null   object\n",
      " 8   MEDICAL_NONMED    2005 non-null   object\n",
      " 9   PI_STATE          2005 non-null   object\n",
      " 10  REASON_FOR_CLAIM  1573 non-null   object\n",
      " 11  PI_AGE            2005 non-null   int64 \n",
      " 12  PI_ANNUAL_INCOME  2005 non-null   object\n",
      " 13  POLICY_STATUS     1790 non-null   object\n",
      "dtypes: int64(2), object(12)\n",
      "memory usage: 219.4+ KB\n"
     ]
    }
   ],
   "source": [
    "ins.info()"
   ]
  },
  {
   "cell_type": "code",
   "execution_count": 70,
   "id": "31a65928",
   "metadata": {},
   "outputs": [
    {
     "data": {
      "text/plain": [
       "POLICY_NO             0\n",
       "PI_NAME               0\n",
       "PI_GENDER             0\n",
       "SUM_ASSURED           0\n",
       "ZONE                  0\n",
       "PAYMENT_MODE          0\n",
       "EARLY_NON             0\n",
       "PI_OCCUPATION       118\n",
       "MEDICAL_NONMED        0\n",
       "PI_STATE              0\n",
       "REASON_FOR_CLAIM    432\n",
       "PI_AGE                0\n",
       "PI_ANNUAL_INCOME      0\n",
       "POLICY_STATUS       215\n",
       "dtype: int64"
      ]
     },
     "execution_count": 70,
     "metadata": {},
     "output_type": "execute_result"
    }
   ],
   "source": [
    "ins.isnull().sum()"
   ]
  },
  {
   "cell_type": "code",
   "execution_count": 71,
   "id": "e1a8be07",
   "metadata": {},
   "outputs": [],
   "source": [
    "ins['PI_OCCUPATION'].fillna(ins['PI_OCCUPATION'].value_counts().idxmax(), inplace=True)"
   ]
  },
  {
   "cell_type": "code",
   "execution_count": 79,
   "id": "e64081bb",
   "metadata": {},
   "outputs": [],
   "source": [
    "#ins['REASON_FOR_CLAIM'].fillna(ins['REASON_FOR_CLAIM'].value_counts().idxmax(), inplace=True)\n",
    "ins1=ins.drop(['POLICY_NO','PI_NAME','REASON_FOR_CLAIM'],axis=1)"
   ]
  },
  {
   "cell_type": "code",
   "execution_count": 80,
   "id": "bb9776d2",
   "metadata": {
    "scrolled": true
   },
   "outputs": [
    {
     "data": {
      "text/html": [
       "<div>\n",
       "<style scoped>\n",
       "    .dataframe tbody tr th:only-of-type {\n",
       "        vertical-align: middle;\n",
       "    }\n",
       "\n",
       "    .dataframe tbody tr th {\n",
       "        vertical-align: top;\n",
       "    }\n",
       "\n",
       "    .dataframe thead th {\n",
       "        text-align: right;\n",
       "    }\n",
       "</style>\n",
       "<table border=\"1\" class=\"dataframe\">\n",
       "  <thead>\n",
       "    <tr style=\"text-align: right;\">\n",
       "      <th></th>\n",
       "      <th>PI_GENDER</th>\n",
       "      <th>SUM_ASSURED</th>\n",
       "      <th>ZONE</th>\n",
       "      <th>PAYMENT_MODE</th>\n",
       "      <th>EARLY_NON</th>\n",
       "      <th>PI_OCCUPATION</th>\n",
       "      <th>MEDICAL_NONMED</th>\n",
       "      <th>PI_STATE</th>\n",
       "      <th>PI_AGE</th>\n",
       "      <th>PI_ANNUAL_INCOME</th>\n",
       "      <th>POLICY_STATUS</th>\n",
       "    </tr>\n",
       "  </thead>\n",
       "  <tbody>\n",
       "    <tr>\n",
       "      <th>0</th>\n",
       "      <td>M</td>\n",
       "      <td>60,000</td>\n",
       "      <td>West</td>\n",
       "      <td>Annual</td>\n",
       "      <td>NON EARLY</td>\n",
       "      <td>Proprietor</td>\n",
       "      <td>NON MEDICAL</td>\n",
       "      <td>Gujarat</td>\n",
       "      <td>52</td>\n",
       "      <td>96,000</td>\n",
       "      <td>Approved Death Claim</td>\n",
       "    </tr>\n",
       "    <tr>\n",
       "      <th>1</th>\n",
       "      <td>M</td>\n",
       "      <td>500,000</td>\n",
       "      <td>AGENCY</td>\n",
       "      <td>Annual</td>\n",
       "      <td>NON EARLY</td>\n",
       "      <td>Proprietor</td>\n",
       "      <td>NON MEDICAL</td>\n",
       "      <td>Madhya Pradesh</td>\n",
       "      <td>56</td>\n",
       "      <td>500,000</td>\n",
       "      <td>Repudiate Death</td>\n",
       "    </tr>\n",
       "    <tr>\n",
       "      <th>2</th>\n",
       "      <td>M</td>\n",
       "      <td>300,000</td>\n",
       "      <td>AGENCY</td>\n",
       "      <td>Annual</td>\n",
       "      <td>NON EARLY</td>\n",
       "      <td>Business</td>\n",
       "      <td>NON MEDICAL</td>\n",
       "      <td>Andhra Pradesh</td>\n",
       "      <td>51</td>\n",
       "      <td>0</td>\n",
       "      <td>Approved Death Claim</td>\n",
       "    </tr>\n",
       "    <tr>\n",
       "      <th>3</th>\n",
       "      <td>F</td>\n",
       "      <td>1,000,000</td>\n",
       "      <td>AGENCY</td>\n",
       "      <td>Annual</td>\n",
       "      <td>EARLY</td>\n",
       "      <td>Homemaker</td>\n",
       "      <td>NON MEDICAL</td>\n",
       "      <td>Andhra Pradesh</td>\n",
       "      <td>52</td>\n",
       "      <td>0</td>\n",
       "      <td>Approved Death Claim</td>\n",
       "    </tr>\n",
       "    <tr>\n",
       "      <th>4</th>\n",
       "      <td>M</td>\n",
       "      <td>10,000,000</td>\n",
       "      <td>RAJASTAN</td>\n",
       "      <td>Annual</td>\n",
       "      <td>EARLY</td>\n",
       "      <td>Banker</td>\n",
       "      <td>NON MEDICAL</td>\n",
       "      <td>Madhya Pradesh</td>\n",
       "      <td>26</td>\n",
       "      <td>0</td>\n",
       "      <td>Approved Death Claim</td>\n",
       "    </tr>\n",
       "  </tbody>\n",
       "</table>\n",
       "</div>"
      ],
      "text/plain": [
       "  PI_GENDER SUM_ASSURED      ZONE PAYMENT_MODE  EARLY_NON PI_OCCUPATION  \\\n",
       "0         M      60,000      West       Annual  NON EARLY    Proprietor   \n",
       "1         M     500,000    AGENCY       Annual  NON EARLY    Proprietor   \n",
       "2         M     300,000    AGENCY       Annual  NON EARLY      Business   \n",
       "3         F   1,000,000    AGENCY       Annual      EARLY     Homemaker   \n",
       "4         M  10,000,000  RAJASTAN       Annual      EARLY        Banker   \n",
       "\n",
       "  MEDICAL_NONMED        PI_STATE  PI_AGE PI_ANNUAL_INCOME  \\\n",
       "0    NON MEDICAL         Gujarat      52           96,000   \n",
       "1    NON MEDICAL  Madhya Pradesh      56          500,000   \n",
       "2    NON MEDICAL  Andhra Pradesh      51                0   \n",
       "3    NON MEDICAL  Andhra Pradesh      52                0   \n",
       "4    NON MEDICAL  Madhya Pradesh      26                0   \n",
       "\n",
       "          POLICY_STATUS  \n",
       "0  Approved Death Claim  \n",
       "1       Repudiate Death  \n",
       "2  Approved Death Claim  \n",
       "3  Approved Death Claim  \n",
       "4  Approved Death Claim  "
      ]
     },
     "execution_count": 80,
     "metadata": {},
     "output_type": "execute_result"
    }
   ],
   "source": [
    "ins1.head()"
   ]
  },
  {
   "cell_type": "code",
   "execution_count": 81,
   "id": "2fe53086",
   "metadata": {},
   "outputs": [],
   "source": [
    "insu = ins1"
   ]
  },
  {
   "cell_type": "code",
   "execution_count": 82,
   "id": "e6fbe32a",
   "metadata": {},
   "outputs": [],
   "source": [
    "insu.dropna(subset=['POLICY_STATUS'], inplace=True)"
   ]
  },
  {
   "cell_type": "code",
   "execution_count": 20,
   "id": "2b243dd3",
   "metadata": {},
   "outputs": [],
   "source": [
    "#ins['POLICY_STATUS'].fillna(ins['POLICY_STATUS'].value_counts().idxmax(), inplace=True)"
   ]
  },
  {
   "cell_type": "code",
   "execution_count": 83,
   "id": "9072f8f0",
   "metadata": {},
   "outputs": [
    {
     "data": {
      "text/plain": [
       "PI_GENDER           0\n",
       "SUM_ASSURED         0\n",
       "ZONE                0\n",
       "PAYMENT_MODE        0\n",
       "EARLY_NON           0\n",
       "PI_OCCUPATION       0\n",
       "MEDICAL_NONMED      0\n",
       "PI_STATE            0\n",
       "PI_AGE              0\n",
       "PI_ANNUAL_INCOME    0\n",
       "POLICY_STATUS       0\n",
       "dtype: int64"
      ]
     },
     "execution_count": 83,
     "metadata": {},
     "output_type": "execute_result"
    }
   ],
   "source": [
    "insu.isnull().sum()"
   ]
  },
  {
   "cell_type": "code",
   "execution_count": 91,
   "id": "6c5f8212",
   "metadata": {},
   "outputs": [
    {
     "data": {
      "text/plain": [
       "(1790, 11)"
      ]
     },
     "execution_count": 91,
     "metadata": {},
     "output_type": "execute_result"
    }
   ],
   "source": [
    "insu.shape"
   ]
  },
  {
   "cell_type": "code",
   "execution_count": 92,
   "id": "1e291424",
   "metadata": {},
   "outputs": [
    {
     "name": "stdout",
     "output_type": "stream",
     "text": [
      "Index(['PI_GENDER', 'SUM_ASSURED', 'ZONE', 'PAYMENT_MODE', 'EARLY_NON',\n",
      "       'PI_OCCUPATION', 'MEDICAL_NONMED', 'PI_STATE', 'PI_ANNUAL_INCOME',\n",
      "       'POLICY_STATUS'],\n",
      "      dtype='object')\n"
     ]
    }
   ],
   "source": [
    "objList = insu.select_dtypes(include = \"object\").columns\n",
    "print (objList)"
   ]
  },
  {
   "cell_type": "code",
   "execution_count": 93,
   "id": "7f789c36",
   "metadata": {},
   "outputs": [
    {
     "name": "stdout",
     "output_type": "stream",
     "text": [
      "<class 'pandas.core.frame.DataFrame'>\n",
      "Int64Index: 1790 entries, 0 to 2004\n",
      "Data columns (total 11 columns):\n",
      " #   Column            Non-Null Count  Dtype\n",
      "---  ------            --------------  -----\n",
      " 0   PI_GENDER         1790 non-null   int32\n",
      " 1   SUM_ASSURED       1790 non-null   int32\n",
      " 2   ZONE              1790 non-null   int32\n",
      " 3   PAYMENT_MODE      1790 non-null   int32\n",
      " 4   EARLY_NON         1790 non-null   int32\n",
      " 5   PI_OCCUPATION     1790 non-null   int32\n",
      " 6   MEDICAL_NONMED    1790 non-null   int32\n",
      " 7   PI_STATE          1790 non-null   int32\n",
      " 8   PI_AGE            1790 non-null   int64\n",
      " 9   PI_ANNUAL_INCOME  1790 non-null   int32\n",
      " 10  POLICY_STATUS     1790 non-null   int32\n",
      "dtypes: int32(10), int64(1)\n",
      "memory usage: 97.9 KB\n",
      "None\n"
     ]
    }
   ],
   "source": [
    "from sklearn.preprocessing import LabelEncoder\n",
    "le = LabelEncoder()\n",
    "\n",
    "for feat in objList:\n",
    "    insu[feat] = le.fit_transform(insu[feat].astype(str))\n",
    "\n",
    "print (insu.info())"
   ]
  },
  {
   "cell_type": "code",
   "execution_count": 94,
   "id": "8e4b98b2",
   "metadata": {},
   "outputs": [
    {
     "data": {
      "text/plain": [
       "(1790, 11)"
      ]
     },
     "execution_count": 94,
     "metadata": {},
     "output_type": "execute_result"
    }
   ],
   "source": [
    "insu.shape"
   ]
  },
  {
   "cell_type": "code",
   "execution_count": 95,
   "id": "dfc73dc1",
   "metadata": {},
   "outputs": [],
   "source": [
    "X = insu.drop('POLICY_STATUS',axis=1)\n",
    "y = insu['POLICY_STATUS']"
   ]
  },
  {
   "cell_type": "code",
   "execution_count": 96,
   "id": "b53deaee",
   "metadata": {},
   "outputs": [],
   "source": [
    "X_train, X_test, y_train, y_test = train_test_split(X, y, test_size=0.2, random_state=0,stratify=y)"
   ]
  },
  {
   "cell_type": "code",
   "execution_count": 97,
   "id": "24ff1460",
   "metadata": {},
   "outputs": [
    {
     "name": "stdout",
     "output_type": "stream",
     "text": [
      "Accuracy on training set: 0.756\n",
      "Accuracy on testing set: 0.737\n"
     ]
    }
   ],
   "source": [
    "from sklearn.tree import DecisionTreeClassifier\n",
    "tree = DecisionTreeClassifier(criterion=\"entropy\",max_depth=5)\n",
    "\n",
    "tree.fit(X_train, y_train)\n",
    "\n",
    "print(\"Accuracy on training set: {:.3f}\".format(tree.score(X_train, y_train)))\n",
    "\n",
    "print(\"Accuracy on testing set: {:.3f}\".format(tree.score(X_test, y_test)))"
   ]
  },
  {
   "cell_type": "code",
   "execution_count": null,
   "id": "5e75a9f7",
   "metadata": {},
   "outputs": [],
   "source": []
  },
  {
   "cell_type": "code",
   "execution_count": 98,
   "id": "17203daa",
   "metadata": {},
   "outputs": [
    {
     "name": "stdout",
     "output_type": "stream",
     "text": [
      "Accuracy on training set: 0.999\n",
      "Accuracy on test set: 0.782\n"
     ]
    }
   ],
   "source": [
    "from sklearn.ensemble import RandomForestClassifier\n",
    "\n",
    "forest = RandomForestClassifier(n_estimators=50, random_state=0)\n",
    "\n",
    "forest.fit(X_train, y_train)\n",
    "\n",
    "print(\"Accuracy on training set: {:.3f}\".format(forest.score(X_train, y_train)))\n",
    "\n",
    "print(\"Accuracy on test set: {:.3f}\".format(forest.score(X_test, y_test)))"
   ]
  },
  {
   "cell_type": "code",
   "execution_count": null,
   "id": "009a7cbb",
   "metadata": {},
   "outputs": [],
   "source": []
  },
  {
   "cell_type": "code",
   "execution_count": 99,
   "id": "5390c5d9",
   "metadata": {},
   "outputs": [
    {
     "name": "stdout",
     "output_type": "stream",
     "text": [
      "Accuracy on training set: 0.760\n",
      "Accuracy on test set: 0.746\n"
     ]
    }
   ],
   "source": [
    "from sklearn.ensemble import GradientBoostingClassifier\n",
    "\n",
    "gbrt = GradientBoostingClassifier(random_state=0,learning_rate=0.05,max_depth=2)\n",
    "\n",
    "gbrt.fit(X_train, y_train)\n",
    "\n",
    "print(\"Accuracy on training set: {:.3f}\".format(gbrt.score(X_train, y_train)))\n",
    "\n",
    "print(\"Accuracy on test set: {:.3f}\".format(gbrt.score(X_test, y_test)))"
   ]
  },
  {
   "cell_type": "code",
   "execution_count": null,
   "id": "18003f21",
   "metadata": {},
   "outputs": [],
   "source": []
  },
  {
   "cell_type": "code",
   "execution_count": 100,
   "id": "7721bf08",
   "metadata": {},
   "outputs": [
    {
     "data": {
      "text/plain": [
       "0.7674581005586593"
      ]
     },
     "execution_count": 100,
     "metadata": {},
     "output_type": "execute_result"
    }
   ],
   "source": [
    "knn = KNN(n_neighbors=5)\n",
    "\n",
    "knn.fit(X_train,y_train) \n",
    "\n",
    "knn.score(X_train,y_train)"
   ]
  },
  {
   "cell_type": "code",
   "execution_count": 101,
   "id": "15c7960a",
   "metadata": {},
   "outputs": [
    {
     "data": {
      "text/plain": [
       "0.6927374301675978"
      ]
     },
     "execution_count": 101,
     "metadata": {},
     "output_type": "execute_result"
    }
   ],
   "source": [
    "knn.score(X_test,y_test)"
   ]
  },
  {
   "cell_type": "code",
   "execution_count": null,
   "id": "c9ab1e39",
   "metadata": {},
   "outputs": [],
   "source": []
  },
  {
   "cell_type": "code",
   "execution_count": 102,
   "id": "9162f912",
   "metadata": {},
   "outputs": [
    {
     "data": {
      "text/plain": [
       "KMeans(n_clusters=2)"
      ]
     },
     "execution_count": 102,
     "metadata": {},
     "output_type": "execute_result"
    }
   ],
   "source": [
    "from sklearn.cluster import KMeans\n",
    "\n",
    "km = KMeans(n_clusters=2)\n",
    "\n",
    "km.fit(X)"
   ]
  },
  {
   "cell_type": "code",
   "execution_count": 103,
   "id": "42dd899d",
   "metadata": {},
   "outputs": [
    {
     "data": {
      "text/plain": [
       "array([1, 1, 1, ..., 1, 0, 1])"
      ]
     },
     "execution_count": 103,
     "metadata": {},
     "output_type": "execute_result"
    }
   ],
   "source": [
    "identified_clusters = km.fit_predict(X)\n",
    "identified_clusters"
   ]
  },
  {
   "cell_type": "code",
   "execution_count": 104,
   "id": "21e88721",
   "metadata": {},
   "outputs": [],
   "source": [
    "ins_clusters = insu.copy()"
   ]
  },
  {
   "cell_type": "code",
   "execution_count": 105,
   "id": "180bbf4a",
   "metadata": {},
   "outputs": [
    {
     "data": {
      "text/html": [
       "<div>\n",
       "<style scoped>\n",
       "    .dataframe tbody tr th:only-of-type {\n",
       "        vertical-align: middle;\n",
       "    }\n",
       "\n",
       "    .dataframe tbody tr th {\n",
       "        vertical-align: top;\n",
       "    }\n",
       "\n",
       "    .dataframe thead th {\n",
       "        text-align: right;\n",
       "    }\n",
       "</style>\n",
       "<table border=\"1\" class=\"dataframe\">\n",
       "  <thead>\n",
       "    <tr style=\"text-align: right;\">\n",
       "      <th></th>\n",
       "      <th>PI_GENDER</th>\n",
       "      <th>SUM_ASSURED</th>\n",
       "      <th>ZONE</th>\n",
       "      <th>PAYMENT_MODE</th>\n",
       "      <th>EARLY_NON</th>\n",
       "      <th>PI_OCCUPATION</th>\n",
       "      <th>MEDICAL_NONMED</th>\n",
       "      <th>PI_STATE</th>\n",
       "      <th>PI_AGE</th>\n",
       "      <th>PI_ANNUAL_INCOME</th>\n",
       "      <th>POLICY_STATUS</th>\n",
       "    </tr>\n",
       "  </thead>\n",
       "  <tbody>\n",
       "    <tr>\n",
       "      <th>0</th>\n",
       "      <td>1</td>\n",
       "      <td>554</td>\n",
       "      <td>31</td>\n",
       "      <td>0</td>\n",
       "      <td>1</td>\n",
       "      <td>75</td>\n",
       "      <td>1</td>\n",
       "      <td>8</td>\n",
       "      <td>52</td>\n",
       "      <td>96</td>\n",
       "      <td>0</td>\n",
       "    </tr>\n",
       "    <tr>\n",
       "      <th>1</th>\n",
       "      <td>1</td>\n",
       "      <td>498</td>\n",
       "      <td>0</td>\n",
       "      <td>0</td>\n",
       "      <td>1</td>\n",
       "      <td>75</td>\n",
       "      <td>1</td>\n",
       "      <td>15</td>\n",
       "      <td>56</td>\n",
       "      <td>66</td>\n",
       "      <td>1</td>\n",
       "    </tr>\n",
       "    <tr>\n",
       "      <th>2</th>\n",
       "      <td>1</td>\n",
       "      <td>344</td>\n",
       "      <td>0</td>\n",
       "      <td>0</td>\n",
       "      <td>1</td>\n",
       "      <td>13</td>\n",
       "      <td>1</td>\n",
       "      <td>1</td>\n",
       "      <td>51</td>\n",
       "      <td>0</td>\n",
       "      <td>0</td>\n",
       "    </tr>\n",
       "    <tr>\n",
       "      <th>3</th>\n",
       "      <td>0</td>\n",
       "      <td>1</td>\n",
       "      <td>0</td>\n",
       "      <td>0</td>\n",
       "      <td>0</td>\n",
       "      <td>46</td>\n",
       "      <td>1</td>\n",
       "      <td>1</td>\n",
       "      <td>52</td>\n",
       "      <td>0</td>\n",
       "      <td>0</td>\n",
       "    </tr>\n",
       "    <tr>\n",
       "      <th>4</th>\n",
       "      <td>1</td>\n",
       "      <td>47</td>\n",
       "      <td>15</td>\n",
       "      <td>0</td>\n",
       "      <td>0</td>\n",
       "      <td>11</td>\n",
       "      <td>1</td>\n",
       "      <td>15</td>\n",
       "      <td>26</td>\n",
       "      <td>0</td>\n",
       "      <td>0</td>\n",
       "    </tr>\n",
       "  </tbody>\n",
       "</table>\n",
       "</div>"
      ],
      "text/plain": [
       "   PI_GENDER  SUM_ASSURED  ZONE  PAYMENT_MODE  EARLY_NON  PI_OCCUPATION  \\\n",
       "0          1          554    31             0          1             75   \n",
       "1          1          498     0             0          1             75   \n",
       "2          1          344     0             0          1             13   \n",
       "3          0            1     0             0          0             46   \n",
       "4          1           47    15             0          0             11   \n",
       "\n",
       "   MEDICAL_NONMED  PI_STATE  PI_AGE  PI_ANNUAL_INCOME  POLICY_STATUS  \n",
       "0               1         8      52                96              0  \n",
       "1               1        15      56                66              1  \n",
       "2               1         1      51                 0              0  \n",
       "3               1         1      52                 0              0  \n",
       "4               1        15      26                 0              0  "
      ]
     },
     "execution_count": 105,
     "metadata": {},
     "output_type": "execute_result"
    }
   ],
   "source": [
    "ins_clusters.head()"
   ]
  },
  {
   "cell_type": "code",
   "execution_count": 106,
   "id": "8e682064",
   "metadata": {},
   "outputs": [],
   "source": [
    "ins_clusters['Clusters'] = identified_clusters "
   ]
  },
  {
   "cell_type": "code",
   "execution_count": 107,
   "id": "680aa48c",
   "metadata": {},
   "outputs": [
    {
     "data": {
      "text/html": [
       "<div>\n",
       "<style scoped>\n",
       "    .dataframe tbody tr th:only-of-type {\n",
       "        vertical-align: middle;\n",
       "    }\n",
       "\n",
       "    .dataframe tbody tr th {\n",
       "        vertical-align: top;\n",
       "    }\n",
       "\n",
       "    .dataframe thead th {\n",
       "        text-align: right;\n",
       "    }\n",
       "</style>\n",
       "<table border=\"1\" class=\"dataframe\">\n",
       "  <thead>\n",
       "    <tr style=\"text-align: right;\">\n",
       "      <th></th>\n",
       "      <th>PI_GENDER</th>\n",
       "      <th>SUM_ASSURED</th>\n",
       "      <th>ZONE</th>\n",
       "      <th>PAYMENT_MODE</th>\n",
       "      <th>EARLY_NON</th>\n",
       "      <th>PI_OCCUPATION</th>\n",
       "      <th>MEDICAL_NONMED</th>\n",
       "      <th>PI_STATE</th>\n",
       "      <th>PI_AGE</th>\n",
       "      <th>PI_ANNUAL_INCOME</th>\n",
       "      <th>POLICY_STATUS</th>\n",
       "      <th>Clusters</th>\n",
       "    </tr>\n",
       "  </thead>\n",
       "  <tbody>\n",
       "    <tr>\n",
       "      <th>0</th>\n",
       "      <td>1</td>\n",
       "      <td>554</td>\n",
       "      <td>31</td>\n",
       "      <td>0</td>\n",
       "      <td>1</td>\n",
       "      <td>75</td>\n",
       "      <td>1</td>\n",
       "      <td>8</td>\n",
       "      <td>52</td>\n",
       "      <td>96</td>\n",
       "      <td>0</td>\n",
       "      <td>1</td>\n",
       "    </tr>\n",
       "    <tr>\n",
       "      <th>1</th>\n",
       "      <td>1</td>\n",
       "      <td>498</td>\n",
       "      <td>0</td>\n",
       "      <td>0</td>\n",
       "      <td>1</td>\n",
       "      <td>75</td>\n",
       "      <td>1</td>\n",
       "      <td>15</td>\n",
       "      <td>56</td>\n",
       "      <td>66</td>\n",
       "      <td>1</td>\n",
       "      <td>1</td>\n",
       "    </tr>\n",
       "    <tr>\n",
       "      <th>2</th>\n",
       "      <td>1</td>\n",
       "      <td>344</td>\n",
       "      <td>0</td>\n",
       "      <td>0</td>\n",
       "      <td>1</td>\n",
       "      <td>13</td>\n",
       "      <td>1</td>\n",
       "      <td>1</td>\n",
       "      <td>51</td>\n",
       "      <td>0</td>\n",
       "      <td>0</td>\n",
       "      <td>1</td>\n",
       "    </tr>\n",
       "    <tr>\n",
       "      <th>3</th>\n",
       "      <td>0</td>\n",
       "      <td>1</td>\n",
       "      <td>0</td>\n",
       "      <td>0</td>\n",
       "      <td>0</td>\n",
       "      <td>46</td>\n",
       "      <td>1</td>\n",
       "      <td>1</td>\n",
       "      <td>52</td>\n",
       "      <td>0</td>\n",
       "      <td>0</td>\n",
       "      <td>0</td>\n",
       "    </tr>\n",
       "    <tr>\n",
       "      <th>4</th>\n",
       "      <td>1</td>\n",
       "      <td>47</td>\n",
       "      <td>15</td>\n",
       "      <td>0</td>\n",
       "      <td>0</td>\n",
       "      <td>11</td>\n",
       "      <td>1</td>\n",
       "      <td>15</td>\n",
       "      <td>26</td>\n",
       "      <td>0</td>\n",
       "      <td>0</td>\n",
       "      <td>0</td>\n",
       "    </tr>\n",
       "  </tbody>\n",
       "</table>\n",
       "</div>"
      ],
      "text/plain": [
       "   PI_GENDER  SUM_ASSURED  ZONE  PAYMENT_MODE  EARLY_NON  PI_OCCUPATION  \\\n",
       "0          1          554    31             0          1             75   \n",
       "1          1          498     0             0          1             75   \n",
       "2          1          344     0             0          1             13   \n",
       "3          0            1     0             0          0             46   \n",
       "4          1           47    15             0          0             11   \n",
       "\n",
       "   MEDICAL_NONMED  PI_STATE  PI_AGE  PI_ANNUAL_INCOME  POLICY_STATUS  Clusters  \n",
       "0               1         8      52                96              0         1  \n",
       "1               1        15      56                66              1         1  \n",
       "2               1         1      51                 0              0         1  \n",
       "3               1         1      52                 0              0         0  \n",
       "4               1        15      26                 0              0         0  "
      ]
     },
     "execution_count": 107,
     "metadata": {},
     "output_type": "execute_result"
    }
   ],
   "source": [
    "ins_clusters.head()"
   ]
  },
  {
   "cell_type": "code",
   "execution_count": 108,
   "id": "ec544e20",
   "metadata": {},
   "outputs": [],
   "source": [
    "ins_clusters.to_excel (r'C:\\Users\\acer\\Downloads\\SpJain\\classes\\dec21\\21.12.21\\INS Clusters.xlsx', index = False, header=True)"
   ]
  },
  {
   "cell_type": "code",
   "execution_count": 109,
   "id": "cff16cfd",
   "metadata": {},
   "outputs": [],
   "source": [
    "df = ins_clusters"
   ]
  },
  {
   "cell_type": "code",
   "execution_count": 110,
   "id": "a9e86944",
   "metadata": {},
   "outputs": [],
   "source": [
    "df['correct'] = df.POLICY_STATUS == df.Clusters"
   ]
  },
  {
   "cell_type": "code",
   "execution_count": 111,
   "id": "ae782201",
   "metadata": {},
   "outputs": [
    {
     "data": {
      "text/html": [
       "<div>\n",
       "<style scoped>\n",
       "    .dataframe tbody tr th:only-of-type {\n",
       "        vertical-align: middle;\n",
       "    }\n",
       "\n",
       "    .dataframe tbody tr th {\n",
       "        vertical-align: top;\n",
       "    }\n",
       "\n",
       "    .dataframe thead th {\n",
       "        text-align: right;\n",
       "    }\n",
       "</style>\n",
       "<table border=\"1\" class=\"dataframe\">\n",
       "  <thead>\n",
       "    <tr style=\"text-align: right;\">\n",
       "      <th></th>\n",
       "      <th>PI_GENDER</th>\n",
       "      <th>SUM_ASSURED</th>\n",
       "      <th>ZONE</th>\n",
       "      <th>PAYMENT_MODE</th>\n",
       "      <th>EARLY_NON</th>\n",
       "      <th>PI_OCCUPATION</th>\n",
       "      <th>MEDICAL_NONMED</th>\n",
       "      <th>PI_STATE</th>\n",
       "      <th>PI_AGE</th>\n",
       "      <th>PI_ANNUAL_INCOME</th>\n",
       "      <th>POLICY_STATUS</th>\n",
       "      <th>Clusters</th>\n",
       "      <th>correct</th>\n",
       "    </tr>\n",
       "  </thead>\n",
       "  <tbody>\n",
       "    <tr>\n",
       "      <th>0</th>\n",
       "      <td>1</td>\n",
       "      <td>554</td>\n",
       "      <td>31</td>\n",
       "      <td>0</td>\n",
       "      <td>1</td>\n",
       "      <td>75</td>\n",
       "      <td>1</td>\n",
       "      <td>8</td>\n",
       "      <td>52</td>\n",
       "      <td>96</td>\n",
       "      <td>0</td>\n",
       "      <td>1</td>\n",
       "      <td>False</td>\n",
       "    </tr>\n",
       "    <tr>\n",
       "      <th>1</th>\n",
       "      <td>1</td>\n",
       "      <td>498</td>\n",
       "      <td>0</td>\n",
       "      <td>0</td>\n",
       "      <td>1</td>\n",
       "      <td>75</td>\n",
       "      <td>1</td>\n",
       "      <td>15</td>\n",
       "      <td>56</td>\n",
       "      <td>66</td>\n",
       "      <td>1</td>\n",
       "      <td>1</td>\n",
       "      <td>True</td>\n",
       "    </tr>\n",
       "    <tr>\n",
       "      <th>2</th>\n",
       "      <td>1</td>\n",
       "      <td>344</td>\n",
       "      <td>0</td>\n",
       "      <td>0</td>\n",
       "      <td>1</td>\n",
       "      <td>13</td>\n",
       "      <td>1</td>\n",
       "      <td>1</td>\n",
       "      <td>51</td>\n",
       "      <td>0</td>\n",
       "      <td>0</td>\n",
       "      <td>1</td>\n",
       "      <td>False</td>\n",
       "    </tr>\n",
       "    <tr>\n",
       "      <th>3</th>\n",
       "      <td>0</td>\n",
       "      <td>1</td>\n",
       "      <td>0</td>\n",
       "      <td>0</td>\n",
       "      <td>0</td>\n",
       "      <td>46</td>\n",
       "      <td>1</td>\n",
       "      <td>1</td>\n",
       "      <td>52</td>\n",
       "      <td>0</td>\n",
       "      <td>0</td>\n",
       "      <td>0</td>\n",
       "      <td>True</td>\n",
       "    </tr>\n",
       "    <tr>\n",
       "      <th>4</th>\n",
       "      <td>1</td>\n",
       "      <td>47</td>\n",
       "      <td>15</td>\n",
       "      <td>0</td>\n",
       "      <td>0</td>\n",
       "      <td>11</td>\n",
       "      <td>1</td>\n",
       "      <td>15</td>\n",
       "      <td>26</td>\n",
       "      <td>0</td>\n",
       "      <td>0</td>\n",
       "      <td>0</td>\n",
       "      <td>True</td>\n",
       "    </tr>\n",
       "  </tbody>\n",
       "</table>\n",
       "</div>"
      ],
      "text/plain": [
       "   PI_GENDER  SUM_ASSURED  ZONE  PAYMENT_MODE  EARLY_NON  PI_OCCUPATION  \\\n",
       "0          1          554    31             0          1             75   \n",
       "1          1          498     0             0          1             75   \n",
       "2          1          344     0             0          1             13   \n",
       "3          0            1     0             0          0             46   \n",
       "4          1           47    15             0          0             11   \n",
       "\n",
       "   MEDICAL_NONMED  PI_STATE  PI_AGE  PI_ANNUAL_INCOME  POLICY_STATUS  \\\n",
       "0               1         8      52                96              0   \n",
       "1               1        15      56                66              1   \n",
       "2               1         1      51                 0              0   \n",
       "3               1         1      52                 0              0   \n",
       "4               1        15      26                 0              0   \n",
       "\n",
       "   Clusters  correct  \n",
       "0         1    False  \n",
       "1         1     True  \n",
       "2         1    False  \n",
       "3         0     True  \n",
       "4         0     True  "
      ]
     },
     "execution_count": 111,
     "metadata": {},
     "output_type": "execute_result"
    }
   ],
   "source": [
    "df.head()"
   ]
  },
  {
   "cell_type": "code",
   "execution_count": 112,
   "id": "101d3ccf",
   "metadata": {},
   "outputs": [],
   "source": [
    "grouped = df.groupby('POLICY_STATUS').agg({'POLICY_STATUS': 'size','correct': 'sum'})"
   ]
  },
  {
   "cell_type": "code",
   "execution_count": 113,
   "id": "468d48c6",
   "metadata": {},
   "outputs": [
    {
     "data": {
      "text/html": [
       "<div>\n",
       "<style scoped>\n",
       "    .dataframe tbody tr th:only-of-type {\n",
       "        vertical-align: middle;\n",
       "    }\n",
       "\n",
       "    .dataframe tbody tr th {\n",
       "        vertical-align: top;\n",
       "    }\n",
       "\n",
       "    .dataframe thead th {\n",
       "        text-align: right;\n",
       "    }\n",
       "</style>\n",
       "<table border=\"1\" class=\"dataframe\">\n",
       "  <thead>\n",
       "    <tr style=\"text-align: right;\">\n",
       "      <th></th>\n",
       "      <th>POLICY_STATUS</th>\n",
       "      <th>correct</th>\n",
       "    </tr>\n",
       "    <tr>\n",
       "      <th>POLICY_STATUS</th>\n",
       "      <th></th>\n",
       "      <th></th>\n",
       "    </tr>\n",
       "  </thead>\n",
       "  <tbody>\n",
       "    <tr>\n",
       "      <th>0</th>\n",
       "      <td>1218</td>\n",
       "      <td>661</td>\n",
       "    </tr>\n",
       "    <tr>\n",
       "      <th>1</th>\n",
       "      <td>572</td>\n",
       "      <td>275</td>\n",
       "    </tr>\n",
       "  </tbody>\n",
       "</table>\n",
       "</div>"
      ],
      "text/plain": [
       "               POLICY_STATUS  correct\n",
       "POLICY_STATUS                        \n",
       "0                       1218      661\n",
       "1                        572      275"
      ]
     },
     "execution_count": 113,
     "metadata": {},
     "output_type": "execute_result"
    }
   ],
   "source": [
    "grouped.head()"
   ]
  },
  {
   "cell_type": "code",
   "execution_count": 114,
   "id": "7f9fc1e5",
   "metadata": {},
   "outputs": [
    {
     "name": "stdout",
     "output_type": "stream",
     "text": [
      "               POLICY_STATUS  correct       acc\n",
      "POLICY_STATUS                                  \n",
      "0                       1218      661  0.542693\n",
      "1                        572      275  0.480769\n",
      "0.5117310850069471\n"
     ]
    }
   ],
   "source": [
    "grouped['acc'] = grouped['correct'] / grouped['POLICY_STATUS']\n",
    "print(grouped)\n",
    "\n",
    "Accuracy = grouped['acc'].mean()\n",
    "\n",
    "print(Accuracy)"
   ]
  },
  {
   "cell_type": "code",
   "execution_count": 115,
   "id": "a566b7ab",
   "metadata": {},
   "outputs": [
    {
     "name": "stderr",
     "output_type": "stream",
     "text": [
      "C:\\ProgramData\\Anaconda3\\lib\\site-packages\\sklearn\\cluster\\_kmeans.py:881: UserWarning: KMeans is known to have a memory leak on Windows with MKL, when there are less chunks than available threads. You can avoid it by setting the environment variable OMP_NUM_THREADS=7.\n",
      "  warnings.warn(\n"
     ]
    },
    {
     "data": {
      "image/png": "[encoded data removed]",
      "text/plain": [
       "<Figure size 432x288 with 1 Axes>"
      ]
     },
     "metadata": {
      "needs_background": "light"
     },
     "output_type": "display_data"
    }
   ],
   "source": [
    "import matplotlib.pyplot  as plt\n",
    "distortions = []\n",
    "for i in range(1,10):\n",
    "    kmeans = KMeans(\n",
    "        n_clusters=i, init='random',\n",
    "        n_init=10, max_iter=300,random_state=0)\n",
    "    kmeans.fit(X)\n",
    "    distortions.append(kmeans.inertia_)\n",
    "\n",
    "# plot\n",
    "plt.plot(range(1, 10), distortions, marker='o')\n",
    "plt.xlabel('Number of clusters')\n",
    "plt.ylabel('Distortion')\n",
    "plt.show()"
   ]
  },
  {
   "cell_type": "code",
   "execution_count": null,
   "id": "e6a552d3",
   "metadata": {},
   "outputs": [],
   "source": []
  }
 ],
 "metadata": {
  "kernelspec": {
   "display_name": "Python 3 (ipykernel)",
   "language": "python",
   "name": "python3"
  },
  "language_info": {
   "codemirror_mode": {
    "name": "ipython",
    "version": 3
   },
   "file_extension": ".py",
   "mimetype": "text/x-python",
   "name": "python",
   "nbconvert_exporter": "python",
   "pygments_lexer": "ipython3",
   "version": "3.9.16"
  }
 },
 "nbformat": 4,
 "nbformat_minor": 5
}
