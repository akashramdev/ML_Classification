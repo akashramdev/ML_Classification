{
 "cells": [
  {
   "cell_type": "code",
   "execution_count": 1,
   "metadata": {},
   "outputs": [],
   "source": [
    "%matplotlib inline\n",
    "import pandas as pd \n",
    "import numpy as np\n",
    "from sklearn.model_selection import train_test_split\n",
    "from sklearn.neighbors import KNeighborsClassifier"
   ]
  },
  {
   "cell_type": "code",
   "execution_count": 2,
   "metadata": {},
   "outputs": [],
   "source": [
    "df = pd.read_csv('Insurance.csv')"
   ]
  },
  {
   "cell_type": "code",
   "execution_count": 3,
   "metadata": {},
   "outputs": [
    {
     "data": {
      "text/html": [
       "<div>\n",
       "<style scoped>\n",
       "    .dataframe tbody tr th:only-of-type {\n",
       "        vertical-align: middle;\n",
       "    }\n",
       "\n",
       "    .dataframe tbody tr th {\n",
       "        vertical-align: top;\n",
       "    }\n",
       "\n",
       "    .dataframe thead th {\n",
       "        text-align: right;\n",
       "    }\n",
       "</style>\n",
       "<table border=\"1\" class=\"dataframe\">\n",
       "  <thead>\n",
       "    <tr style=\"text-align: right;\">\n",
       "      <th></th>\n",
       "      <th>POLICY_NO</th>\n",
       "      <th>PI_NAME</th>\n",
       "      <th>PI_GENDER</th>\n",
       "      <th>SUM_ASSURED</th>\n",
       "      <th>ZONE</th>\n",
       "      <th>PAYMENT_MODE</th>\n",
       "      <th>EARLY_NON</th>\n",
       "      <th>PI_OCCUPATION</th>\n",
       "      <th>MEDICAL_NONMED</th>\n",
       "      <th>PI_STATE</th>\n",
       "      <th>REASON_FOR_CLAIM</th>\n",
       "      <th>PI_AGE</th>\n",
       "      <th>PI_ANNUAL_INCOME</th>\n",
       "      <th>POLICY_STATUS</th>\n",
       "    </tr>\n",
       "  </thead>\n",
       "  <tbody>\n",
       "    <tr>\n",
       "      <th>0</th>\n",
       "      <td>101</td>\n",
       "      <td>A111111</td>\n",
       "      <td>M</td>\n",
       "      <td>60,000</td>\n",
       "      <td>West</td>\n",
       "      <td>Annual</td>\n",
       "      <td>NON EARLY</td>\n",
       "      <td>Proprietor</td>\n",
       "      <td>NON MEDICAL</td>\n",
       "      <td>Gujarat</td>\n",
       "      <td>Cancer</td>\n",
       "      <td>52</td>\n",
       "      <td>96,000</td>\n",
       "      <td>Approved Death Claim</td>\n",
       "    </tr>\n",
       "    <tr>\n",
       "      <th>1</th>\n",
       "      <td>102</td>\n",
       "      <td>A111112</td>\n",
       "      <td>M</td>\n",
       "      <td>500,000</td>\n",
       "      <td>AGENCY</td>\n",
       "      <td>Annual</td>\n",
       "      <td>NON EARLY</td>\n",
       "      <td>Proprietor</td>\n",
       "      <td>NON MEDICAL</td>\n",
       "      <td>Madhya Pradesh</td>\n",
       "      <td>NaN</td>\n",
       "      <td>56</td>\n",
       "      <td>500,000</td>\n",
       "      <td>Repudiate Death</td>\n",
       "    </tr>\n",
       "    <tr>\n",
       "      <th>2</th>\n",
       "      <td>103</td>\n",
       "      <td>A111113</td>\n",
       "      <td>M</td>\n",
       "      <td>300,000</td>\n",
       "      <td>AGENCY</td>\n",
       "      <td>Annual</td>\n",
       "      <td>NON EARLY</td>\n",
       "      <td>Business</td>\n",
       "      <td>NON MEDICAL</td>\n",
       "      <td>Andhra Pradesh</td>\n",
       "      <td>COVID 19</td>\n",
       "      <td>51</td>\n",
       "      <td>0</td>\n",
       "      <td>Approved Death Claim</td>\n",
       "    </tr>\n",
       "    <tr>\n",
       "      <th>3</th>\n",
       "      <td>104</td>\n",
       "      <td>A111114</td>\n",
       "      <td>F</td>\n",
       "      <td>1,000,000</td>\n",
       "      <td>AGENCY</td>\n",
       "      <td>Annual</td>\n",
       "      <td>EARLY</td>\n",
       "      <td>Homemaker</td>\n",
       "      <td>NON MEDICAL</td>\n",
       "      <td>Andhra Pradesh</td>\n",
       "      <td>NaN</td>\n",
       "      <td>52</td>\n",
       "      <td>0</td>\n",
       "      <td>Approved Death Claim</td>\n",
       "    </tr>\n",
       "    <tr>\n",
       "      <th>4</th>\n",
       "      <td>105</td>\n",
       "      <td>A111115</td>\n",
       "      <td>M</td>\n",
       "      <td>10,000,000</td>\n",
       "      <td>RAJASTAN</td>\n",
       "      <td>Annual</td>\n",
       "      <td>EARLY</td>\n",
       "      <td>Banker</td>\n",
       "      <td>NON MEDICAL</td>\n",
       "      <td>Madhya Pradesh</td>\n",
       "      <td>Accidental</td>\n",
       "      <td>26</td>\n",
       "      <td>0</td>\n",
       "      <td>Approved Death Claim</td>\n",
       "    </tr>\n",
       "  </tbody>\n",
       "</table>\n",
       "</div>"
      ],
      "text/plain": [
       "   POLICY_NO  PI_NAME PI_GENDER SUM_ASSURED      ZONE PAYMENT_MODE  EARLY_NON  \\\n",
       "0        101  A111111         M      60,000      West       Annual  NON EARLY   \n",
       "1        102  A111112         M     500,000    AGENCY       Annual  NON EARLY   \n",
       "2        103  A111113         M     300,000    AGENCY       Annual  NON EARLY   \n",
       "3        104  A111114         F   1,000,000    AGENCY       Annual      EARLY   \n",
       "4        105  A111115         M  10,000,000  RAJASTAN       Annual      EARLY   \n",
       "\n",
       "  PI_OCCUPATION MEDICAL_NONMED        PI_STATE REASON_FOR_CLAIM  PI_AGE  \\\n",
       "0    Proprietor    NON MEDICAL         Gujarat           Cancer      52   \n",
       "1    Proprietor    NON MEDICAL  Madhya Pradesh              NaN      56   \n",
       "2      Business    NON MEDICAL  Andhra Pradesh         COVID 19      51   \n",
       "3     Homemaker    NON MEDICAL  Andhra Pradesh              NaN      52   \n",
       "4        Banker    NON MEDICAL  Madhya Pradesh       Accidental      26   \n",
       "\n",
       "  PI_ANNUAL_INCOME         POLICY_STATUS  \n",
       "0           96,000  Approved Death Claim  \n",
       "1          500,000       Repudiate Death  \n",
       "2                0  Approved Death Claim  \n",
       "3                0  Approved Death Claim  \n",
       "4                0  Approved Death Claim  "
      ]
     },
     "execution_count": 3,
     "metadata": {},
     "output_type": "execute_result"
    }
   ],
   "source": [
    "df.head()"
   ]
  },
  {
   "cell_type": "code",
   "execution_count": 4,
   "metadata": {},
   "outputs": [
    {
     "data": {
      "text/plain": [
       "POLICY_NO             0\n",
       "PI_NAME               0\n",
       "PI_GENDER             0\n",
       "SUM_ASSURED           0\n",
       "ZONE                  0\n",
       "PAYMENT_MODE          0\n",
       "EARLY_NON             0\n",
       "PI_OCCUPATION       118\n",
       "MEDICAL_NONMED        0\n",
       "PI_STATE              0\n",
       "REASON_FOR_CLAIM    432\n",
       "PI_AGE                0\n",
       "PI_ANNUAL_INCOME      0\n",
       "POLICY_STATUS       215\n",
       "dtype: int64"
      ]
     },
     "execution_count": 4,
     "metadata": {},
     "output_type": "execute_result"
    }
   ],
   "source": [
    "# Prints number of null values for each column\n",
    "df.isnull().sum()"
   ]
  },
  {
   "cell_type": "code",
   "execution_count": 5,
   "metadata": {
    "scrolled": true
   },
   "outputs": [
    {
     "data": {
      "text/plain": [
       "(2005, 14)"
      ]
     },
     "execution_count": 5,
     "metadata": {},
     "output_type": "execute_result"
    }
   ],
   "source": [
    "df.shape"
   ]
  },
  {
   "cell_type": "code",
   "execution_count": null,
   "metadata": {},
   "outputs": [],
   "source": [
    "#df['POLICY_STATUS'].fillna(df['POLICY_STATUS'].value_counts().idxmax(), inplace=True)"
   ]
  },
  {
   "cell_type": "code",
   "execution_count": 6,
   "metadata": {},
   "outputs": [],
   "source": [
    "df['PI_OCCUPATION'].fillna(df['PI_OCCUPATION'].value_counts().idxmax(), inplace=True)"
   ]
  },
  {
   "cell_type": "code",
   "execution_count": 7,
   "metadata": {},
   "outputs": [
    {
     "data": {
      "text/plain": [
       "POLICY_NO             0\n",
       "PI_NAME               0\n",
       "PI_GENDER             0\n",
       "SUM_ASSURED           0\n",
       "ZONE                  0\n",
       "PAYMENT_MODE          0\n",
       "EARLY_NON             0\n",
       "PI_OCCUPATION         0\n",
       "MEDICAL_NONMED        0\n",
       "PI_STATE              0\n",
       "REASON_FOR_CLAIM    432\n",
       "PI_AGE                0\n",
       "PI_ANNUAL_INCOME      0\n",
       "POLICY_STATUS       215\n",
       "dtype: int64"
      ]
     },
     "execution_count": 7,
     "metadata": {},
     "output_type": "execute_result"
    }
   ],
   "source": [
    "df.isnull().sum()"
   ]
  },
  {
   "cell_type": "code",
   "execution_count": 9,
   "metadata": {},
   "outputs": [],
   "source": [
    "dfn=df.drop(['POLICY_NO','PI_NAME','PI_ANNUAL_INCOME'],axis=1)"
   ]
  },
  {
   "cell_type": "code",
   "execution_count": null,
   "metadata": {},
   "outputs": [],
   "source": [
    "#dfn=df.drop(['POLICY_NO','PI_NAME'],axis=1)"
   ]
  },
  {
   "cell_type": "code",
   "execution_count": 10,
   "metadata": {
    "scrolled": true
   },
   "outputs": [
    {
     "data": {
      "text/html": [
       "<div>\n",
       "<style scoped>\n",
       "    .dataframe tbody tr th:only-of-type {\n",
       "        vertical-align: middle;\n",
       "    }\n",
       "\n",
       "    .dataframe tbody tr th {\n",
       "        vertical-align: top;\n",
       "    }\n",
       "\n",
       "    .dataframe thead th {\n",
       "        text-align: right;\n",
       "    }\n",
       "</style>\n",
       "<table border=\"1\" class=\"dataframe\">\n",
       "  <thead>\n",
       "    <tr style=\"text-align: right;\">\n",
       "      <th></th>\n",
       "      <th>PI_GENDER</th>\n",
       "      <th>SUM_ASSURED</th>\n",
       "      <th>ZONE</th>\n",
       "      <th>PAYMENT_MODE</th>\n",
       "      <th>EARLY_NON</th>\n",
       "      <th>PI_OCCUPATION</th>\n",
       "      <th>MEDICAL_NONMED</th>\n",
       "      <th>PI_STATE</th>\n",
       "      <th>REASON_FOR_CLAIM</th>\n",
       "      <th>PI_AGE</th>\n",
       "      <th>POLICY_STATUS</th>\n",
       "    </tr>\n",
       "  </thead>\n",
       "  <tbody>\n",
       "    <tr>\n",
       "      <th>0</th>\n",
       "      <td>M</td>\n",
       "      <td>60,000</td>\n",
       "      <td>West</td>\n",
       "      <td>Annual</td>\n",
       "      <td>NON EARLY</td>\n",
       "      <td>Proprietor</td>\n",
       "      <td>NON MEDICAL</td>\n",
       "      <td>Gujarat</td>\n",
       "      <td>Cancer</td>\n",
       "      <td>52</td>\n",
       "      <td>Approved Death Claim</td>\n",
       "    </tr>\n",
       "    <tr>\n",
       "      <th>1</th>\n",
       "      <td>M</td>\n",
       "      <td>500,000</td>\n",
       "      <td>AGENCY</td>\n",
       "      <td>Annual</td>\n",
       "      <td>NON EARLY</td>\n",
       "      <td>Proprietor</td>\n",
       "      <td>NON MEDICAL</td>\n",
       "      <td>Madhya Pradesh</td>\n",
       "      <td>NaN</td>\n",
       "      <td>56</td>\n",
       "      <td>Repudiate Death</td>\n",
       "    </tr>\n",
       "    <tr>\n",
       "      <th>2</th>\n",
       "      <td>M</td>\n",
       "      <td>300,000</td>\n",
       "      <td>AGENCY</td>\n",
       "      <td>Annual</td>\n",
       "      <td>NON EARLY</td>\n",
       "      <td>Business</td>\n",
       "      <td>NON MEDICAL</td>\n",
       "      <td>Andhra Pradesh</td>\n",
       "      <td>COVID 19</td>\n",
       "      <td>51</td>\n",
       "      <td>Approved Death Claim</td>\n",
       "    </tr>\n",
       "    <tr>\n",
       "      <th>3</th>\n",
       "      <td>F</td>\n",
       "      <td>1,000,000</td>\n",
       "      <td>AGENCY</td>\n",
       "      <td>Annual</td>\n",
       "      <td>EARLY</td>\n",
       "      <td>Homemaker</td>\n",
       "      <td>NON MEDICAL</td>\n",
       "      <td>Andhra Pradesh</td>\n",
       "      <td>NaN</td>\n",
       "      <td>52</td>\n",
       "      <td>Approved Death Claim</td>\n",
       "    </tr>\n",
       "    <tr>\n",
       "      <th>4</th>\n",
       "      <td>M</td>\n",
       "      <td>10,000,000</td>\n",
       "      <td>RAJASTAN</td>\n",
       "      <td>Annual</td>\n",
       "      <td>EARLY</td>\n",
       "      <td>Banker</td>\n",
       "      <td>NON MEDICAL</td>\n",
       "      <td>Madhya Pradesh</td>\n",
       "      <td>Accidental</td>\n",
       "      <td>26</td>\n",
       "      <td>Approved Death Claim</td>\n",
       "    </tr>\n",
       "  </tbody>\n",
       "</table>\n",
       "</div>"
      ],
      "text/plain": [
       "  PI_GENDER SUM_ASSURED      ZONE PAYMENT_MODE  EARLY_NON PI_OCCUPATION  \\\n",
       "0         M      60,000      West       Annual  NON EARLY    Proprietor   \n",
       "1         M     500,000    AGENCY       Annual  NON EARLY    Proprietor   \n",
       "2         M     300,000    AGENCY       Annual  NON EARLY      Business   \n",
       "3         F   1,000,000    AGENCY       Annual      EARLY     Homemaker   \n",
       "4         M  10,000,000  RAJASTAN       Annual      EARLY        Banker   \n",
       "\n",
       "  MEDICAL_NONMED        PI_STATE REASON_FOR_CLAIM  PI_AGE  \\\n",
       "0    NON MEDICAL         Gujarat           Cancer      52   \n",
       "1    NON MEDICAL  Madhya Pradesh              NaN      56   \n",
       "2    NON MEDICAL  Andhra Pradesh         COVID 19      51   \n",
       "3    NON MEDICAL  Andhra Pradesh              NaN      52   \n",
       "4    NON MEDICAL  Madhya Pradesh       Accidental      26   \n",
       "\n",
       "          POLICY_STATUS  \n",
       "0  Approved Death Claim  \n",
       "1       Repudiate Death  \n",
       "2  Approved Death Claim  \n",
       "3  Approved Death Claim  \n",
       "4  Approved Death Claim  "
      ]
     },
     "execution_count": 10,
     "metadata": {},
     "output_type": "execute_result"
    }
   ],
   "source": [
    "dfn.head()"
   ]
  },
  {
   "cell_type": "code",
   "execution_count": 11,
   "metadata": {
    "scrolled": true
   },
   "outputs": [
    {
     "data": {
      "text/plain": [
       "PI_GENDER             0\n",
       "SUM_ASSURED           0\n",
       "ZONE                  0\n",
       "PAYMENT_MODE          0\n",
       "EARLY_NON             0\n",
       "PI_OCCUPATION         0\n",
       "MEDICAL_NONMED        0\n",
       "PI_STATE              0\n",
       "REASON_FOR_CLAIM    432\n",
       "PI_AGE                0\n",
       "POLICY_STATUS       215\n",
       "dtype: int64"
      ]
     },
     "execution_count": 11,
     "metadata": {},
     "output_type": "execute_result"
    }
   ],
   "source": [
    "dfn.isnull().sum()"
   ]
  },
  {
   "cell_type": "code",
   "execution_count": 15,
   "metadata": {},
   "outputs": [],
   "source": [
    "anshul = dfn"
   ]
  },
  {
   "cell_type": "code",
   "execution_count": 16,
   "metadata": {},
   "outputs": [],
   "source": [
    "anshul['REASON_FOR_CLAIM'].fillna(anshul['REASON_FOR_CLAIM'].value_counts().idxmax(), inplace=True)"
   ]
  },
  {
   "cell_type": "code",
   "execution_count": 17,
   "metadata": {},
   "outputs": [
    {
     "data": {
      "text/plain": [
       "PI_GENDER             0\n",
       "SUM_ASSURED           0\n",
       "ZONE                  0\n",
       "PAYMENT_MODE          0\n",
       "EARLY_NON             0\n",
       "PI_OCCUPATION         0\n",
       "MEDICAL_NONMED        0\n",
       "PI_STATE              0\n",
       "REASON_FOR_CLAIM      0\n",
       "PI_AGE                0\n",
       "POLICY_STATUS       215\n",
       "dtype: int64"
      ]
     },
     "execution_count": 17,
     "metadata": {},
     "output_type": "execute_result"
    }
   ],
   "source": [
    "anshul.isnull().sum()"
   ]
  },
  {
   "cell_type": "code",
   "execution_count": 18,
   "metadata": {},
   "outputs": [],
   "source": [
    "anshuln = anshul.dropna(subset=['POLICY_STATUS']) #to drop row which is having null value in Policy status"
   ]
  },
  {
   "cell_type": "code",
   "execution_count": 19,
   "metadata": {
    "scrolled": true
   },
   "outputs": [
    {
     "data": {
      "text/plain": [
       "(1790, 11)"
      ]
     },
     "execution_count": 19,
     "metadata": {},
     "output_type": "execute_result"
    }
   ],
   "source": [
    "anshuln.shape # anshuln is my training data which I will give input to the algorithm"
   ]
  },
  {
   "cell_type": "code",
   "execution_count": 20,
   "metadata": {},
   "outputs": [],
   "source": [
    "anshultest=anshul[anshul.POLICY_STATUS.isnull()]"
   ]
  },
  {
   "cell_type": "code",
   "execution_count": 21,
   "metadata": {},
   "outputs": [
    {
     "data": {
      "text/plain": [
       "(215, 11)"
      ]
     },
     "execution_count": 21,
     "metadata": {},
     "output_type": "execute_result"
    }
   ],
   "source": [
    "anshultest.shape"
   ]
  },
  {
   "cell_type": "code",
   "execution_count": 22,
   "metadata": {},
   "outputs": [],
   "source": [
    "X_test=anshultest.drop('POLICY_STATUS',axis=1)#creating test data by removing the test label"
   ]
  },
  {
   "cell_type": "code",
   "execution_count": 23,
   "metadata": {},
   "outputs": [
    {
     "data": {
      "text/plain": [
       "(215, 10)"
      ]
     },
     "execution_count": 23,
     "metadata": {},
     "output_type": "execute_result"
    }
   ],
   "source": [
    "X_test.shape"
   ]
  },
  {
   "cell_type": "markdown",
   "metadata": {},
   "source": [
    "# Multi label encoding using for loop..!!!"
   ]
  },
  {
   "cell_type": "code",
   "execution_count": 24,
   "metadata": {
    "scrolled": false
   },
   "outputs": [
    {
     "name": "stdout",
     "output_type": "stream",
     "text": [
      "Index(['PI_GENDER', 'SUM_ASSURED', 'ZONE', 'PAYMENT_MODE', 'EARLY_NON',\n",
      "       'PI_OCCUPATION', 'MEDICAL_NONMED', 'PI_STATE', 'REASON_FOR_CLAIM',\n",
      "       'POLICY_STATUS'],\n",
      "      dtype='object')\n"
     ]
    }
   ],
   "source": [
    "objList = anshuln.select_dtypes(include = \"object\").columns\n",
    "print (objList)"
   ]
  },
  {
   "cell_type": "code",
   "execution_count": 25,
   "metadata": {
    "scrolled": true
   },
   "outputs": [
    {
     "name": "stdout",
     "output_type": "stream",
     "text": [
      "<class 'pandas.core.frame.DataFrame'>\n",
      "Int64Index: 1790 entries, 0 to 2004\n",
      "Data columns (total 11 columns):\n",
      " #   Column            Non-Null Count  Dtype\n",
      "---  ------            --------------  -----\n",
      " 0   PI_GENDER         1790 non-null   int32\n",
      " 1   SUM_ASSURED       1790 non-null   int32\n",
      " 2   ZONE              1790 non-null   int32\n",
      " 3   PAYMENT_MODE      1790 non-null   int32\n",
      " 4   EARLY_NON         1790 non-null   int32\n",
      " 5   PI_OCCUPATION     1790 non-null   int32\n",
      " 6   MEDICAL_NONMED    1790 non-null   int32\n",
      " 7   PI_STATE          1790 non-null   int32\n",
      " 8   REASON_FOR_CLAIM  1790 non-null   int32\n",
      " 9   PI_AGE            1790 non-null   int64\n",
      " 10  POLICY_STATUS     1790 non-null   int32\n",
      "dtypes: int32(10), int64(1)\n",
      "memory usage: 97.9 KB\n",
      "None\n"
     ]
    },
    {
     "name": "stderr",
     "output_type": "stream",
     "text": [
      "<ipython-input-25-dd85962b93f7>:6: SettingWithCopyWarning: \n",
      "A value is trying to be set on a copy of a slice from a DataFrame.\n",
      "Try using .loc[row_indexer,col_indexer] = value instead\n",
      "\n",
      "See the caveats in the documentation: https://pandas.pydata.org/pandas-docs/stable/user_guide/indexing.html#returning-a-view-versus-a-copy\n",
      "  anshuln[feat] = le.fit_transform(anshuln[feat].astype(str))\n"
     ]
    }
   ],
   "source": [
    "#Label Encoding for object to numeric conversion\n",
    "from sklearn.preprocessing import LabelEncoder\n",
    "le = LabelEncoder()\n",
    "\n",
    "for feat in objList:\n",
    "    anshuln[feat] = le.fit_transform(anshuln[feat].astype(str))\n",
    "\n",
    "print (anshuln.info())"
   ]
  },
  {
   "cell_type": "code",
   "execution_count": 26,
   "metadata": {},
   "outputs": [
    {
     "data": {
      "text/plain": [
       "(1790, 11)"
      ]
     },
     "execution_count": 26,
     "metadata": {},
     "output_type": "execute_result"
    }
   ],
   "source": [
    "anshuln.shape"
   ]
  },
  {
   "cell_type": "code",
   "execution_count": 27,
   "metadata": {},
   "outputs": [],
   "source": [
    "X = anshuln.drop('POLICY_STATUS',axis=1)\n",
    "y = anshuln['POLICY_STATUS']"
   ]
  },
  {
   "cell_type": "code",
   "execution_count": 28,
   "metadata": {},
   "outputs": [
    {
     "name": "stdout",
     "output_type": "stream",
     "text": [
      "      PI_GENDER  SUM_ASSURED  ZONE  PAYMENT_MODE  EARLY_NON  PI_OCCUPATION  \\\n",
      "0             1          554    31             0          1             75   \n",
      "1             1          498     0             0          1             75   \n",
      "2             1          344     0             0          1             13   \n",
      "3             0            1     0             0          0             46   \n",
      "4             1           47    15             0          0             11   \n",
      "...         ...          ...   ...           ...        ...            ...   \n",
      "1998          1          680     0             0          1             75   \n",
      "2001          1          369    24             4          1             80   \n",
      "2002          0          385     0             1          1             83   \n",
      "2003          1           10    23             1          0             14   \n",
      "2004          0          498     0             0          1             12   \n",
      "\n",
      "      MEDICAL_NONMED  PI_STATE  REASON_FOR_CLAIM  PI_AGE  \n",
      "0                  1         8                 9      52  \n",
      "1                  1        15                27      56  \n",
      "2                  1         1                 8      51  \n",
      "3                  1         1                27      52  \n",
      "4                  1        15                 1      26  \n",
      "...              ...       ...               ...     ...  \n",
      "1998               0        16                27      58  \n",
      "2001               1         9                27      55  \n",
      "2002               1         2                12      57  \n",
      "2003               0        26                27      37  \n",
      "2004               1        14                27      58  \n",
      "\n",
      "[1790 rows x 10 columns]\n"
     ]
    }
   ],
   "source": [
    "print(X)"
   ]
  },
  {
   "cell_type": "code",
   "execution_count": 29,
   "metadata": {},
   "outputs": [
    {
     "name": "stdout",
     "output_type": "stream",
     "text": [
      "0       0\n",
      "1       1\n",
      "2       0\n",
      "3       0\n",
      "4       0\n",
      "       ..\n",
      "1998    0\n",
      "2001    0\n",
      "2002    1\n",
      "2003    1\n",
      "2004    1\n",
      "Name: POLICY_STATUS, Length: 1790, dtype: int32\n"
     ]
    }
   ],
   "source": [
    "print(y)"
   ]
  },
  {
   "cell_type": "code",
   "execution_count": 30,
   "metadata": {},
   "outputs": [],
   "source": [
    "from sklearn.model_selection import train_test_split \n",
    "X_train, X_test, y_train, y_test = train_test_split(X, y, test_size=0.2, random_state = 0,stratify=y) # X is data and # y is label"
   ]
  },
  {
   "cell_type": "code",
   "execution_count": null,
   "metadata": {},
   "outputs": [],
   "source": [
    "from sklearn.neighbors import KNeighborsClassifier\n",
    "\n",
    "knn = KNeighborsClassifier(n_neighbors=3)\n",
    "\n",
    "knn.fit(X_train,y_train) #training data and traget has been provided to the algorithm\n",
    "\n",
    "knn.score(X_train,y_train)#the data we are passing will be considered for the accuracy"
   ]
  },
  {
   "cell_type": "code",
   "execution_count": null,
   "metadata": {},
   "outputs": [],
   "source": [
    "knn.score(X_test,y_test)"
   ]
  },
  {
   "cell_type": "markdown",
   "metadata": {},
   "source": [
    "# Decision Trees"
   ]
  },
  {
   "cell_type": "code",
   "execution_count": 31,
   "metadata": {},
   "outputs": [
    {
     "name": "stdout",
     "output_type": "stream",
     "text": [
      "Accuracy on training set: 0.755\n"
     ]
    }
   ],
   "source": [
    "from sklearn.tree import DecisionTreeClassifier\n",
    "\n",
    "tree = DecisionTreeClassifier(criterion=\"entropy\",max_depth=5)\n",
    "\n",
    "#tree = DecisionTreeClassifier()\n",
    "\n",
    "tree.fit(X_train, y_train)#### what happened here? training of the algo/model starts here\n",
    "\n",
    "print(\"Accuracy on training set: {:.3f}\".format(tree.score(X_train, y_train)))"
   ]
  },
  {
   "cell_type": "code",
   "execution_count": 32,
   "metadata": {},
   "outputs": [
    {
     "name": "stdout",
     "output_type": "stream",
     "text": [
      "Accuracy on testing set: 0.749\n"
     ]
    }
   ],
   "source": [
    "print(\"Accuracy on testing set: {:.3f}\".format(tree.score(X_test, y_test)))"
   ]
  },
  {
   "cell_type": "code",
   "execution_count": 33,
   "metadata": {},
   "outputs": [
    {
     "name": "stdout",
     "output_type": "stream",
     "text": [
      "Feature importances:\n",
      "[0.         0.32920648 0.1794737  0.0436136  0.02061293 0.22958363\n",
      " 0.01446012 0.11431535 0.03489298 0.0338412 ]\n"
     ]
    }
   ],
   "source": [
    "print(\"Feature importances:\\n{}\".format(tree.feature_importances_))"
   ]
  },
  {
   "cell_type": "code",
   "execution_count": 34,
   "metadata": {},
   "outputs": [
    {
     "data": {
      "image/png": "[encoded data removed]",
      "text/plain": [
       "<Figure size 432x288 with 1 Axes>"
      ]
     },
     "metadata": {
      "needs_background": "light"
     },
     "output_type": "display_data"
    }
   ],
   "source": [
    "import matplotlib.pyplot as plt\n",
    "def plot_feature_importances(model):\n",
    "    n_features = X_train.shape[1]\n",
    "    plt.barh(range(n_features), model.feature_importances_, align='center')\n",
    "    plt.yticks(np.arange(n_features), X_train.columns)\n",
    "    plt.xlabel(\"Feature importance\")\n",
    "    plt.ylabel(\"Feature\")\n",
    "plot_feature_importances(tree)"
   ]
  },
  {
   "cell_type": "code",
   "execution_count": 35,
   "metadata": {},
   "outputs": [
    {
     "name": "stdout",
     "output_type": "stream",
     "text": [
      "Accuracy on training set: 0.999\n",
      "Accuracy on test set: 0.768\n"
     ]
    }
   ],
   "source": [
    "from sklearn.ensemble import RandomForestClassifier\n",
    "\n",
    "forest = RandomForestClassifier(n_estimators=100, random_state=0)\n",
    "\n",
    "forest.fit(X_train, y_train)\n",
    "\n",
    "print(\"Accuracy on training set: {:.3f}\".format(forest.score(X_train, y_train)))\n",
    "\n",
    "print(\"Accuracy on test set: {:.3f}\".format(forest.score(X_test, y_test)))"
   ]
  },
  {
   "cell_type": "code",
   "execution_count": 36,
   "metadata": {},
   "outputs": [
    {
     "name": "stdout",
     "output_type": "stream",
     "text": [
      "Feature importances:\n",
      "[0.0217685  0.23427415 0.11366336 0.05105822 0.02735061 0.15508461\n",
      " 0.01978685 0.12329397 0.09416363 0.1595561 ]\n"
     ]
    },
    {
     "data": {
      "image/png": "[encoded data removed]",
      "text/plain": [
       "<Figure size 432x288 with 1 Axes>"
      ]
     },
     "metadata": {
      "needs_background": "light"
     },
     "output_type": "display_data"
    }
   ],
   "source": [
    "print(\"Feature importances:\\n{}\".format(forest.feature_importances_))\n",
    "import matplotlib.pyplot as plt\n",
    "def plot_feature_importances(model):\n",
    "    n_features = X_train.shape[1]\n",
    "    plt.barh(range(n_features), model.feature_importances_, align='center')\n",
    "    plt.yticks(np.arange(n_features), X_train.columns)\n",
    "    plt.xlabel(\"Feature importance\")\n",
    "    plt.ylabel(\"Feature\")\n",
    "plot_feature_importances(forest)"
   ]
  },
  {
   "cell_type": "code",
   "execution_count": 37,
   "metadata": {},
   "outputs": [
    {
     "name": "stdout",
     "output_type": "stream",
     "text": [
      "Accuracy on training set: 0.839\n",
      "Accuracy on test set: 0.777\n"
     ]
    }
   ],
   "source": [
    "from sklearn.ensemble import GradientBoostingClassifier\n",
    "\n",
    "gbrt = GradientBoostingClassifier(learning_rate=0.1)\n",
    "\n",
    "gbrt.fit(X_train, y_train)\n",
    "\n",
    "print(\"Accuracy on training set: {:.3f}\".format(gbrt.score(X_train, y_train)))\n",
    "\n",
    "print(\"Accuracy on test set: {:.3f}\".format(gbrt.score(X_test, y_test)))"
   ]
  },
  {
   "cell_type": "code",
   "execution_count": 38,
   "metadata": {},
   "outputs": [
    {
     "name": "stdout",
     "output_type": "stream",
     "text": [
      "Feature importances:\n",
      "[0.00394709 0.37044999 0.12278951 0.05665717 0.006793   0.24231549\n",
      " 0.01694689 0.07099017 0.03273705 0.07637365]\n"
     ]
    },
    {
     "data": {
      "image/png": "[encoded data removed]",
      "text/plain": [
       "<Figure size 432x288 with 1 Axes>"
      ]
     },
     "metadata": {
      "needs_background": "light"
     },
     "output_type": "display_data"
    }
   ],
   "source": [
    "print(\"Feature importances:\\n{}\".format(gbrt.feature_importances_))\n",
    "import matplotlib.pyplot as plt\n",
    "def plot_feature_importances(model):\n",
    "    n_features = X_train.shape[1]\n",
    "    plt.barh(range(n_features), model.feature_importances_, align='center')\n",
    "    plt.yticks(np.arange(n_features), X_train.columns)\n",
    "    plt.xlabel(\"Feature importance\")\n",
    "    plt.ylabel(\"Feature\")\n",
    "plot_feature_importances(gbrt)"
   ]
  },
  {
   "cell_type": "code",
   "execution_count": 39,
   "metadata": {},
   "outputs": [],
   "source": [
    "from sklearn.preprocessing import MinMaxScaler\n",
    "scaler = MinMaxScaler()\n",
    "scaler.fit(X)\n",
    "X_datas = scaler.transform(X)"
   ]
  },
  {
   "cell_type": "code",
   "execution_count": 40,
   "metadata": {},
   "outputs": [],
   "source": [
    "X_train1, X_test1, y_train1, y_test1 = train_test_split(X_datas,y,test_size=0.30,random_state=0)"
   ]
  },
  {
   "cell_type": "code",
   "execution_count": 41,
   "metadata": {},
   "outputs": [
    {
     "data": {
      "text/plain": [
       "0.6852886405959032"
      ]
     },
     "execution_count": 41,
     "metadata": {},
     "output_type": "execute_result"
    }
   ],
   "source": [
    "from sklearn.neighbors import KNeighborsClassifier\n",
    "knn = KNeighborsClassifier(n_neighbors=3)\n",
    "knn.fit(X_train1,y_train1) #training data and traget has been provided to the algorithm\n",
    "knn.score(X_test1,y_test1)"
   ]
  },
  {
   "cell_type": "code",
   "execution_count": 42,
   "metadata": {},
   "outputs": [
    {
     "data": {
      "text/plain": [
       "0.7057728119180633"
      ]
     },
     "execution_count": 42,
     "metadata": {},
     "output_type": "execute_result"
    }
   ],
   "source": [
    "from sklearn.tree import DecisionTreeClassifier\n",
    "tree = DecisionTreeClassifier()\n",
    "tree.fit(X_train1, y_train1)\n",
    "tree.score(X_test1,y_test1)"
   ]
  },
  {
   "cell_type": "code",
   "execution_count": 43,
   "metadata": {},
   "outputs": [
    {
     "name": "stdout",
     "output_type": "stream",
     "text": [
      "Accuracy on training set: 0.843\n",
      "Accuracy on test set: 0.773\n"
     ]
    }
   ],
   "source": [
    "from sklearn.ensemble import GradientBoostingClassifier\n",
    "\n",
    "gbrt = GradientBoostingClassifier(random_state=0,learning_rate=0.1)\n",
    "\n",
    "gbrt.fit(X_train1, y_train1)\n",
    "\n",
    "print(\"Accuracy on training set: {:.3f}\".format(gbrt.score(X_train1, y_train1)))\n",
    "\n",
    "print(\"Accuracy on test set: {:.3f}\".format(gbrt.score(X_test1, y_test1)))"
   ]
  },
  {
   "cell_type": "code",
   "execution_count": null,
   "metadata": {},
   "outputs": [],
   "source": []
  }
 ],
 "metadata": {
  "kernelspec": {
   "display_name": "Python 3 (ipykernel)",
   "language": "python",
   "name": "python3"
  },
  "language_info": {
   "codemirror_mode": {
    "name": "ipython",
    "version": 3
   },
   "file_extension": ".py",
   "mimetype": "text/x-python",
   "name": "python",
   "nbconvert_exporter": "python",
   "pygments_lexer": "ipython3",
   "version": "3.9.16"
  }
 },
 "nbformat": 4,
 "nbformat_minor": 2
}
